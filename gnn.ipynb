{
 "cells": [
  {
   "cell_type": "markdown",
   "metadata": {},
   "source": [
    "## 1. Load Data"
   ]
  },
  {
   "cell_type": "code",
   "execution_count": null,
   "metadata": {},
   "outputs": [
    {
     "ename": "",
     "evalue": "",
     "output_type": "error",
     "traceback": [
      "\u001b[1;31mFailed to start the Kernel. \n",
      "\u001b[1;31mKernel Python 3.9.6 is not usable. Check the Jupyter output tab for more information. \n",
      "\u001b[1;31mView Jupyter <a href='command:jupyter.viewOutput'>log</a> for further details."
     ]
    }
   ],
   "source": [
    "import torch\n",
    "from torch_geometric.nn import MessagePassing\n",
    "from torch_geometric.data import Data\n",
    "\n",
    "class EdgePredictor(MessagePassing):\n",
    "    def __init__(self, node_features, edge_features):\n",
    "        super(EdgePredictor, self).__init__(aggr='add')  # \"Add\" aggregation.\n",
    "        self.node_transform = torch.nn.Linear(node_features, edge_features)\n",
    "        self.edge_transform = torch.nn.Linear(edge_features, edge_features)\n",
    "        self.edge_predict = torch.nn.Linear(2 * edge_features, edge_features)\n",
    "\n",
    "    def forward(self, x, edge_index, edge_attr):\n",
    "        # x is the node features and has shape [N, node_features]\n",
    "        # edge_index has shape [2, E]\n",
    "        # edge_attr has shape [E, edge_features]\n",
    "\n",
    "        # Step 1: Transform node and edge features\n",
    "        x = self.node_transform(x)\n",
    "        edge_attr = self.edge_transform(edge_attr)\n",
    "\n",
    "        # Step 2: Start propagating messages.\n",
    "        return self.propagate(edge_index, x=x, edge_attr=edge_attr)\n",
    "\n",
    "    def message(self, x_i, x_j, edge_attr):\n",
    "        # x_i, x_j have shape [E, edge_features]\n",
    "        # edge_attr has shape [E, edge_features]\n",
    "        \n",
    "        # Step 3: Message function combines node and edge features.\n",
    "        edge_message = torch.cat([x_i, x_j], dim=1) + edge_attr\n",
    "\n",
    "        # Step 4: Edge attribute prediction\n",
    "        return self.edge_predict(edge_message)\n",
    "\n",
    "# Create a synthetic dataset\n",
    "num_nodes = 10\n",
    "node_features = 5\n",
    "edge_features = 5\n",
    "x = torch.randn(num_nodes, node_features)\n",
    "edge_index = torch.tensor([[0, 1, 1, 2], [1, 0, 2, 1]], dtype=torch.long)\n",
    "edge_attr = torch.randn((edge_index.shape[1], edge_features), dtype=torch.float32)\n",
    "\n",
    "data = Data(x=x, edge_index=edge_index, edge_attr=edge_attr)\n",
    "\n",
    "# Create the model and optimizer\n",
    "model = EdgePredictor(node_features, edge_features)\n",
    "optimizer = torch.optim.Adam(model.parameters(), lr=0.01)\n",
    "\n",
    "# Synthetic target edge attributes for training\n",
    "edge_attr_target = torch.randn((data.edge_index.shape[1], edge_features), dtype=torch.float32)\n",
    "\n",
    "for epoch in range(10):\n",
    "    optimizer.zero_grad()\n",
    "    edge_attr_pred = model(data.x, data.edge_index, data.edge_attr)\n",
    "    loss = ((edge_attr_pred - edge_attr_target)**2).mean()  # Mean Squared Error Loss\n",
    "    loss.backward()\n",
    "    optimizer.step()\n",
    "    print('Epoch:', epoch+1, ', Loss:', loss.item())\n"
   ]
  }
 ],
 "metadata": {
  "kernelspec": {
   "display_name": "Python 3",
   "language": "python",
   "name": "python3"
  },
  "language_info": {
   "codemirror_mode": {
    "name": "ipython",
    "version": 3
   },
   "file_extension": ".py",
   "mimetype": "text/x-python",
   "name": "python",
   "nbconvert_exporter": "python",
   "pygments_lexer": "ipython3",
   "version": "3.9.6"
  },
  "vscode": {
   "interpreter": {
    "hash": "31f2aee4e71d21fbe5cf8b01ff0e069b9275f58929596ceb00d14d90e3e16cd6"
   }
  }
 },
 "nbformat": 4,
 "nbformat_minor": 2
}
